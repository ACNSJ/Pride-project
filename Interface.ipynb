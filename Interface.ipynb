{
 "cells": [
  {
   "cell_type": "code",
   "execution_count": 1,
   "metadata": {},
   "outputs": [],
   "source": [
    "import gradio as gr\n",
    "import pickle\n",
    "import sklearn\n",
    "import numpy as np"
   ]
  },
  {
   "cell_type": "code",
   "execution_count": 2,
   "metadata": {},
   "outputs": [],
   "source": [
    "def add(model,area,perimeter,majoraxis,minoraxis,eccentricity,convex_area,extent):\n",
    "    if model==\"Decision Tree\":\n",
    "        mdl=pickle.load(open(\"Decision Tree model.pkl\",\"rb\"))\n",
    "        score=0.94094*100\n",
    "    if model==\"Random Forest\":\n",
    "        mdl=pickle.load(open(\"Random Forest model.pkl\",\"rb\"))\n",
    "        score=0.94619*100\n",
    "    if model==\"Logistic Regression\":\n",
    "        mdl=pickle.load(open(\"Logistic model.pkl\",\"rb\"))\n",
    "        score=0.95144*100\n",
    "    arr=np.array([area,perimeter,majoraxis,minoraxis,eccentricity,convex_area,extent]).reshape(1,-1)\n",
    "    y=mdl.predict(arr)\n",
    "    if y==0:\n",
    "        return 'Cammeo',score\n",
    "    elif y==1:\n",
    "        return 'Osmancik',score"
   ]
  },
  {
   "cell_type": "code",
   "execution_count": 3,
   "metadata": {},
   "outputs": [
    {
     "name": "stdout",
     "output_type": "stream",
     "text": [
      "Running on local URL:  http://127.0.0.1:7860\n",
      "\n",
      "To create a public link, set `share=True` in `launch()`.\n"
     ]
    },
    {
     "data": {
      "text/html": [
       "<div><iframe src=\"http://127.0.0.1:7860/\" width=\"100%\" height=\"500\" allow=\"autoplay; camera; microphone; clipboard-read; clipboard-write;\" frameborder=\"0\" allowfullscreen></iframe></div>"
      ],
      "text/plain": [
       "<IPython.core.display.HTML object>"
      ]
     },
     "metadata": {},
     "output_type": "display_data"
    },
    {
     "data": {
      "text/plain": []
     },
     "execution_count": 3,
     "metadata": {},
     "output_type": "execute_result"
    },
    {
     "name": "stderr",
     "output_type": "stream",
     "text": [
      "e:\\anaconda3\\Lib\\site-packages\\gradio\\analytics.py:98: UserWarning: unable to parse version details from package URL.\n",
      "  warnings.warn(\"unable to parse version details from package URL.\")\n",
      "C:\\Users\\Nikhil\\AppData\\Roaming\\Python\\Python311\\site-packages\\sklearn\\base.py:465: UserWarning: X does not have valid feature names, but DecisionTreeClassifier was fitted with feature names\n",
      "  warnings.warn(\n"
     ]
    }
   ],
   "source": [
    "interface=gr.Interface(fn=add,\n",
    "                       inputs=[gr.Radio(choices=[\"Decision Tree\",\"Random Forest\",\"Logistic Regression\"],value='text',label=\"Model Selected\"),gr.Slider(7000,18000,value='float',label='Area'),gr.Slider(300,540,value='float',label='Perimeter'),gr.Slider(100,240,value='float',label='Major Axis'),gr.Slider(50,105,value='float',label='Minor Axis'),gr.Slider(0,1,value='float',label='Eccentricity'),gr.Slider(7000,18000,value='float',label='Convex Area'),gr.Slider(0,1,value='float',label='Extent')],\n",
    "                       outputs=[gr.Textbox(label=\"Predicted Rice Type\"),gr.Textbox(label=\"Accuracy score\")],\n",
    "                       examples=[[\"Decision Tree\",1.02490000e+04, 4.04088989e+02, 1.65682449e+02, 8.03842621e+01,8.74419451e-01, 1.04860000e+04, 6.71449184e-01],\n",
    "                                 [\"Random Forest\",1.37990000e+04, 4.54740997e+02, 1.84868271e+02, 9.59158554e+01,8.54875267e-01, 1.39650000e+04, 6.21800661e-01],\n",
    "                                 [\"Logistic Regression\",1.38220000e+04, 4.91661011e+02, 2.12135406e+02, 8.36546249e+01, 9.18962300e-01, 1.40730000e+04, 6.54698730e-01]],\n",
    "                       title=\"Rice Classifier\",\n",
    "                       allow_flagging='never')\n",
    "interface.launch()"
   ]
  },
  {
   "cell_type": "code",
   "execution_count": null,
   "metadata": {},
   "outputs": [],
   "source": []
  }
 ],
 "metadata": {
  "kernelspec": {
   "display_name": "base",
   "language": "python",
   "name": "python3"
  },
  "language_info": {
   "codemirror_mode": {
    "name": "ipython",
    "version": 3
   },
   "file_extension": ".py",
   "mimetype": "text/x-python",
   "name": "python",
   "nbconvert_exporter": "python",
   "pygments_lexer": "ipython3",
   "version": "3.11.5"
  }
 },
 "nbformat": 4,
 "nbformat_minor": 2
}
